{
  "nbformat": 4,
  "nbformat_minor": 0,
  "metadata": {
    "colab": {
      "provenance": [],
      "authorship_tag": "ABX9TyNykR6bRhanEDdPEUcsk529",
      "include_colab_link": true
    },
    "kernelspec": {
      "name": "python3",
      "display_name": "Python 3"
    },
    "language_info": {
      "name": "python"
    }
  },
  "cells": [
    {
      "cell_type": "markdown",
      "metadata": {
        "id": "view-in-github",
        "colab_type": "text"
      },
      "source": [
        "<a href=\"https://colab.research.google.com/github/JaxsonStentz/AI_Toolkit/blob/main/AI_Toolkit_Website_Brochure_Creator.ipynb\" target=\"_parent\"><img src=\"https://colab.research.google.com/assets/colab-badge.svg\" alt=\"Open In Colab\"/></a>"
      ]
    },
    {
      "cell_type": "code",
      "source": [
        "# !pip installs for Google Colab\n",
        "\n",
        "!pip install python-dotenv\n",
        "!pip install httpx==0.27.2\n",
        "!pip install openai==1.55.3"
      ],
      "metadata": {
        "colab": {
          "base_uri": "https://localhost:8080/"
        },
        "id": "h058ookpZJnI",
        "outputId": "43fa9797-29eb-4957-9845-fae9fffe82cb"
      },
      "execution_count": 1,
      "outputs": [
        {
          "output_type": "stream",
          "name": "stdout",
          "text": [
            "Requirement already satisfied: python-dotenv in /usr/local/lib/python3.10/dist-packages (1.0.1)\n",
            "Requirement already satisfied: httpx==0.27.2 in /usr/local/lib/python3.10/dist-packages (0.27.2)\n",
            "Requirement already satisfied: anyio in /usr/local/lib/python3.10/dist-packages (from httpx==0.27.2) (3.7.1)\n",
            "Requirement already satisfied: certifi in /usr/local/lib/python3.10/dist-packages (from httpx==0.27.2) (2024.8.30)\n",
            "Requirement already satisfied: httpcore==1.* in /usr/local/lib/python3.10/dist-packages (from httpx==0.27.2) (1.0.7)\n",
            "Requirement already satisfied: idna in /usr/local/lib/python3.10/dist-packages (from httpx==0.27.2) (3.10)\n",
            "Requirement already satisfied: sniffio in /usr/local/lib/python3.10/dist-packages (from httpx==0.27.2) (1.3.1)\n",
            "Requirement already satisfied: h11<0.15,>=0.13 in /usr/local/lib/python3.10/dist-packages (from httpcore==1.*->httpx==0.27.2) (0.14.0)\n",
            "Requirement already satisfied: exceptiongroup in /usr/local/lib/python3.10/dist-packages (from anyio->httpx==0.27.2) (1.2.2)\n",
            "Requirement already satisfied: openai==1.55.3 in /usr/local/lib/python3.10/dist-packages (1.55.3)\n",
            "Requirement already satisfied: anyio<5,>=3.5.0 in /usr/local/lib/python3.10/dist-packages (from openai==1.55.3) (3.7.1)\n",
            "Requirement already satisfied: distro<2,>=1.7.0 in /usr/local/lib/python3.10/dist-packages (from openai==1.55.3) (1.9.0)\n",
            "Requirement already satisfied: httpx<1,>=0.23.0 in /usr/local/lib/python3.10/dist-packages (from openai==1.55.3) (0.27.2)\n",
            "Requirement already satisfied: jiter<1,>=0.4.0 in /usr/local/lib/python3.10/dist-packages (from openai==1.55.3) (0.8.0)\n",
            "Requirement already satisfied: pydantic<3,>=1.9.0 in /usr/local/lib/python3.10/dist-packages (from openai==1.55.3) (2.10.3)\n",
            "Requirement already satisfied: sniffio in /usr/local/lib/python3.10/dist-packages (from openai==1.55.3) (1.3.1)\n",
            "Requirement already satisfied: tqdm>4 in /usr/local/lib/python3.10/dist-packages (from openai==1.55.3) (4.66.6)\n",
            "Requirement already satisfied: typing-extensions<5,>=4.11 in /usr/local/lib/python3.10/dist-packages (from openai==1.55.3) (4.12.2)\n",
            "Requirement already satisfied: idna>=2.8 in /usr/local/lib/python3.10/dist-packages (from anyio<5,>=3.5.0->openai==1.55.3) (3.10)\n",
            "Requirement already satisfied: exceptiongroup in /usr/local/lib/python3.10/dist-packages (from anyio<5,>=3.5.0->openai==1.55.3) (1.2.2)\n",
            "Requirement already satisfied: certifi in /usr/local/lib/python3.10/dist-packages (from httpx<1,>=0.23.0->openai==1.55.3) (2024.8.30)\n",
            "Requirement already satisfied: httpcore==1.* in /usr/local/lib/python3.10/dist-packages (from httpx<1,>=0.23.0->openai==1.55.3) (1.0.7)\n",
            "Requirement already satisfied: h11<0.15,>=0.13 in /usr/local/lib/python3.10/dist-packages (from httpcore==1.*->httpx<1,>=0.23.0->openai==1.55.3) (0.14.0)\n",
            "Requirement already satisfied: annotated-types>=0.6.0 in /usr/local/lib/python3.10/dist-packages (from pydantic<3,>=1.9.0->openai==1.55.3) (0.7.0)\n",
            "Requirement already satisfied: pydantic-core==2.27.1 in /usr/local/lib/python3.10/dist-packages (from pydantic<3,>=1.9.0->openai==1.55.3) (2.27.1)\n"
          ]
        }
      ]
    },
    {
      "cell_type": "code",
      "source": [
        "# Imports\n",
        "\n",
        "import os\n",
        "import requests\n",
        "import json\n",
        "from typing import List\n",
        "from dotenv import load_dotenv\n",
        "from bs4 import BeautifulSoup\n",
        "from IPython.display import Markdown, display, update_display\n",
        "from openai import OpenAI"
      ],
      "metadata": {
        "id": "LDb6LkX4ZMxY"
      },
      "execution_count": 2,
      "outputs": []
    },
    {
      "cell_type": "code",
      "source": [
        "# Load environment\n",
        "\n",
        "load_dotenv()\n",
        "os.environ['OPENAI_API_KEY'] = os.getenv('OPENAI_API_KEY', 'your-key-if-not-using-env')\n",
        "MODEL = 'gpt-4o-mini'\n",
        "openai = OpenAI()"
      ],
      "metadata": {
        "id": "er5GbFvMZMuq"
      },
      "execution_count": 3,
      "outputs": []
    },
    {
      "cell_type": "code",
      "source": [
        "# Create a class to represent a Webpage\n",
        "\n",
        "class Website:\n",
        "    \"\"\"\n",
        "    A utility class to represent a Website that we have scraped, now with links\n",
        "    \"\"\"\n",
        "    url: str\n",
        "    title: str\n",
        "    body: str\n",
        "    links: List[str]\n",
        "    text: str\n",
        "\n",
        "    def __init__(self, url):\n",
        "        self.url = url\n",
        "        response = requests.get(url)\n",
        "        self.body = response.content\n",
        "        soup = BeautifulSoup(self.body, 'html.parser')\n",
        "        self.title = soup.title.string if soup.title else \"No title found\"\n",
        "        if soup.body:\n",
        "            for irrelevant in soup.body([\"script\", \"style\", \"img\", \"input\"]):\n",
        "                irrelevant.decompose()\n",
        "            self.text = soup.body.get_text(separator=\"\\n\", strip=True)\n",
        "        else:\n",
        "            self.text = \"\"\n",
        "        links = [link.get('href') for link in soup.find_all('a')]\n",
        "        self.links = [link for link in links if link]\n",
        "\n",
        "    def get_contents(self):\n",
        "        return f\"Webpage Title:\\n{self.title}\\nWebpage Contents:\\n{self.text}\\n\\n\""
      ],
      "metadata": {
        "id": "HzHgG7anZMr0"
      },
      "execution_count": 4,
      "outputs": []
    },
    {
      "cell_type": "code",
      "source": [
        "# Individual website scraper (get the content from the webpage)\n",
        "\n",
        "ed = Website(\"https://walmart.com\")\n",
        "print(ed.get_contents())"
      ],
      "metadata": {
        "id": "qtfV-xIjZMpA",
        "colab": {
          "base_uri": "https://localhost:8080/"
        },
        "outputId": "f9767aa2-c77c-4d88-9c8a-454454a1dc2c"
      },
      "execution_count": 5,
      "outputs": [
        {
          "output_type": "stream",
          "name": "stdout",
          "text": [
            "Webpage Title:\n",
            "Walmart | Save Money. Live better.\n",
            "Webpage Contents:\n",
            "Skip to Main Content\n",
            "How do you want your items?\n",
            "Cancel\n",
            "Reorder\n",
            "My Items\n",
            "Reorder\n",
            "Lists\n",
            "Registries\n",
            "Sign In\n",
            "Account\n",
            "Sign in or create account\n",
            "Purchase History\n",
            "Walmart+\n",
            "$0.00\n",
            "Departments\n",
            "Services\n",
            "|\n",
            "How do you want your items?\n",
            "Walmart | Save Money. Live better.\n",
            "Presents for them, too!\n",
            "Shop pets\n",
            "Shop pets\n",
            "Great finds for techies\n",
            "Shop gifts\n",
            "Shop gifts\n",
            "Styles that wow\n",
            "Shop gifts\n",
            "Shop gifts\n",
            "Calling all Santas!\n",
            "Save on 1,000s of gifts\n",
            "Shop all\n",
            "Shop all\n",
            "Gift-swap goodies\n",
            "Shop now\n",
            "Shop now\n",
            "Under\n",
            "$\n",
            "25\n",
            "Up to 65% off\n",
            "Shop now\n",
            "Shop now\n",
            "Join Walmart+\n",
            "Walmart+ delivers fast & free from your local store\n",
            "One free trial per member. Terms apply.\n",
            "Join Walmart+\n",
            "Make it personal, from $10\n",
            "Shop gifts\n",
            "Shop gifts\n",
            "Surprise the host\n",
            "Shop gifts\n",
            "Shop gifts\n",
            "Buzzy faves to give & get\n",
            "Shop gifts\n",
            "Shop gifts\n",
            "Starting at\n",
            "$\n",
            "15\n",
            "We’d love to hear what you think!\n",
            "Give feedback\n",
            "All Departments\n",
            "Store Directory\n",
            "Careers\n",
            "Our Company\n",
            "Sell on Walmart.com\n",
            "Help\n",
            "Product Recalls\n",
            "Accessibility\n",
            "Tax Exempt Program\n",
            "Get the Walmart App\n",
            "Sign-up for Email\n",
            "Safety Data Sheet\n",
            "Terms of Use\n",
            "Privacy & Security\n",
            "California Supply Chain Act\n",
            "Your Privacy Choices\n",
            "Notice at Collection\n",
            "AdChoices\n",
            "Consumer Health Data Privacy Notices\n",
            "Request My Personal Information\n",
            "Brand Shop Directory\n",
            "Pharmacy\n",
            "Walmart Business\n",
            "#IYWYK\n",
            "Delete Account\n",
            "© 2024 Walmart. All Rights Reserved.\n",
            "\n",
            "\n"
          ]
        }
      ]
    },
    {
      "cell_type": "code",
      "source": [
        "# System prompt\n",
        "\n",
        "link_system_prompt = \"You are provided with a list of links found on a webpage. \\\n",
        "You are able to decide which of the links would be most relevant to include in a brochure about the company, \\\n",
        "such as links to an About page, or a Company page, or Careers/Jobs pages.\\n\"\n",
        "link_system_prompt += \"You should respond in JSON as in this example:\"\n",
        "link_system_prompt += \"\"\"\n",
        "{\n",
        "    \"links\": [\n",
        "        {\"type\": \"about page\", \"url\": \"https://full.url/goes/here/about\"},\n",
        "        {\"type\": \"careers page\": \"url\": \"https://another.full.url/careers\"}\n",
        "    ]\n",
        "}\n",
        "\"\"\""
      ],
      "metadata": {
        "id": "HgTDRkroZMmV"
      },
      "execution_count": 6,
      "outputs": []
    },
    {
      "cell_type": "code",
      "source": [
        "# Define links_user_prompt\n",
        "\n",
        "def get_links_user_prompt(website):\n",
        "    user_prompt = f\"Here is the list of links on the website of {website.url} - \"\n",
        "    user_prompt += \"please decide which of these are relevant web links for a brochure about the company, respond with the full https URL in JSON format. \\\n",
        "Do not include Terms of Service, Privacy, email links.\\n\"\n",
        "    user_prompt += \"Links (some might be relative links):\\n\"\n",
        "    user_prompt += \"\\n\".join(website.links)\n",
        "    return user_prompt"
      ],
      "metadata": {
        "id": "RO5PFKsQZMjx"
      },
      "execution_count": 7,
      "outputs": []
    },
    {
      "cell_type": "code",
      "source": [
        "# Individual website scraper (get the links from the webpage only)\n",
        "\n",
        "print(get_links_user_prompt(ed))"
      ],
      "metadata": {
        "id": "e6_ChSVSZMhD",
        "colab": {
          "base_uri": "https://localhost:8080/"
        },
        "outputId": "968d8367-4ad9-46a4-8972-4edb505cfaca"
      },
      "execution_count": 8,
      "outputs": [
        {
          "output_type": "stream",
          "name": "stdout",
          "text": [
            "Here is the list of links on the website of https://walmart.com - please decide which of these are relevant web links for a brochure about the company, respond with the full https URL in JSON format. Do not include Terms of Service, Privacy, email links.\n",
            "Links (some might be relative links):\n",
            "#maincontent\n",
            "/all-departments\n",
            "/\n",
            "/\n",
            "/my-items\n",
            "/my-items\n",
            "/lists\n",
            "/my-registries\n",
            "/\n",
            "/orders\n",
            "/plus\n",
            "/shop/gift-finder?facet=gf_occasion%3AChristmas%7C%7Cgf_interests%3APets&athAsset=eyJhdGhjcGlkIjoiNGY4MTQxYjYtMzA1OC00ZDYxLTlkM2EtYjkwMGZkYjFkNjk1In0=&athena=true\n",
            "/shop/gift-finder?facet=gf_occasion%3AChristmas%7C%7Cgf_interests%3APets&athAsset=eyJhdGhjcGlkIjoiNGY4MTQxYjYtMzA1OC00ZDYxLTlkM2EtYjkwMGZkYjFkNjk1In0=&athena=true\n",
            "/shop/gift-finder?facet=gf_occasion%3AChristmas%7C%7Cgf_interests%3ATech&athAsset=eyJhdGhjcGlkIjoiMTVlYjZjNWQtZTllYy00ODM4LWE4NjItYTIxODMzMDFiMGJmIn0=&athena=true\n",
            "/shop/gift-finder?facet=gf_occasion%3AChristmas%7C%7Cgf_interests%3ATech&athAsset=eyJhdGhjcGlkIjoiMTVlYjZjNWQtZTllYy00ODM4LWE4NjItYTIxODMzMDFiMGJmIn0=&athena=true\n",
            "/shop/gift-finder?facet=gf_occasion%3AChristmas%7C%7Cgf_interests%3AFashion+%26+accessories%7C%7Cgf_interests%3AJewelry+%26+watches&athAsset=eyJhdGhjcGlkIjoiMGZiMjU1MTYtNzMyOC00ZWUwLTliYzctYmYzZmExYjVjZGZjIn0=&athena=true\n",
            "/shop/gift-finder?facet=gf_occasion%3AChristmas%7C%7Cgf_interests%3AFashion+%26+accessories%7C%7Cgf_interests%3AJewelry+%26+watches&athAsset=eyJhdGhjcGlkIjoiMGZiMjU1MTYtNzMyOC00ZWUwLTliYzctYmYzZmExYjVjZGZjIn0=&athena=true\n",
            "/shop/savings\n",
            "/shop/savings\n",
            "/shop/gift-finder?facet=gf_occasion%3AGift+swap&athAsset=eyJhdGhjcGlkIjoiMzY3ZDBkMmEtZTUyZS00M2RiLTllYmUtOTMwMTlmYjFkYjBlIn0=&athena=true\n",
            "/shop/gift-finder?facet=gf_occasion%3AGift+swap&athAsset=eyJhdGhjcGlkIjoiMzY3ZDBkMmEtZTUyZS00M2RiLTllYmUtOTMwMTlmYjFkYjBlIn0=&athena=true\n",
            "/shop/deals/flash-deals?athAsset=eyJhdGhjcGlkIjoiYmJmYzc4YmEtNDNlOC00OGE3LWE1MjQtOGE1MmM4MDViZDQzIiwiYXRoc3RpZCI6IkNTMzA0IiwiYXRodHZpZCI6IjEifQ==&athena=true\n",
            "/shop/deals/flash-deals?athAsset=eyJhdGhjcGlkIjoiYmJmYzc4YmEtNDNlOC00OGE3LWE1MjQtOGE1MmM4MDViZDQzIiwiYXRoc3RpZCI6IkNTMzA0IiwiYXRodHZpZCI6IjEifQ==&athena=true\n",
            "https://www.walmart.com/plus?povid=wplusHPEvergreenBannerACQ_GenAI_MAB_1010&athAsset=eyJhdGhjcGlkIjoiMGRlMDExYjQtYjkwOS0zOGY5LTk5ZmEtZDg4MTM4YTIxYzFhIiwiYXRoc3RpZCI6IkNTMTAwIiwiYXRodHZpZCI6IjEiLCJhdGhiYW1oZCI6MS4wLCJhdGhiYW1yZCI6MS4wLCJhdGhlZSI6eyJhIjoyNDAuMCwiYiI6NTY0OTgyLjAsInciOjQuNzIxNjkxOTMxMTE0MzIxRS00LCJjIjoiZ2xvYmFsIn19&athena=true\n",
            "https://www.walmart.com/plus?povid=wplusHPEvergreenBannerACQ_GenAI_MAB_1010&athAsset=eyJhdGhjcGlkIjoiMGRlMDExYjQtYjkwOS0zOGY5LTk5ZmEtZDg4MTM4YTIxYzFhIiwiYXRoc3RpZCI6IkNTMTAwIiwiYXRodHZpZCI6IjEiLCJhdGhiYW1oZCI6MS4wLCJhdGhiYW1yZCI6MS4wLCJhdGhlZSI6eyJhIjoyNDAuMCwiYiI6NTY0OTgyLjAsInciOjQuNzIxNjkxOTMxMTE0MzIxRS00LCJjIjoiZ2xvYmFsIn19&athena=true\n",
            "/shop/gift-finder?facet=gf_occasion%3AChristmas%7C%7Cgf_interests%3APersonalization&athAsset=eyJhdGhjcGlkIjoiYTc3MTM3NzEtOGJhYS00MzU0LTljY2QtYTRkZjM3OTIwZmI3In0=&athena=true\n",
            "/shop/gift-finder?facet=gf_occasion%3AChristmas%7C%7Cgf_interests%3APersonalization&athAsset=eyJhdGhjcGlkIjoiYTc3MTM3NzEtOGJhYS00MzU0LTljY2QtYTRkZjM3OTIwZmI3In0=&athena=true\n",
            "/shop/gift-finder?facet=gf_occasion%3AChristmas%7C%7Cgf_persona%3AHost%2FHostess&athAsset=eyJhdGhjcGlkIjoiMWY0NDY2NWYtZTIwMS00ZjgyLTk1MmMtMGY2NjYzMzRmOTgzIn0=&athena=true\n",
            "/shop/gift-finder?facet=gf_occasion%3AChristmas%7C%7Cgf_persona%3AHost%2FHostess&athAsset=eyJhdGhjcGlkIjoiMWY0NDY2NWYtZTIwMS00ZjgyLTk1MmMtMGY2NjYzMzRmOTgzIn0=&athena=true\n",
            "/shop/gift-finder?facet=gf_occasion%3AChristmas%7C%7Cgf_interests%3ATrendy+things&athAsset=eyJhdGhjcGlkIjoiNmUyZWRmZmUtMTAyNC00Mzc3LWEzZjgtNjQ0ZWU3NzE3MzM4In0=&athena=true\n",
            "/shop/gift-finder?facet=gf_occasion%3AChristmas%7C%7Cgf_interests%3ATrendy+things&athAsset=eyJhdGhjcGlkIjoiNmUyZWRmZmUtMTAyNC00Mzc3LWEzZjgtNjQ0ZWU3NzE3MzM4In0=&athena=true\n",
            "/all-departments\n",
            "/store/directory\n",
            "https://careers.walmart.com/\n",
            "https://corporate.walmart.com/\n",
            "https://marketplace.walmart.com/?utm_source=Walmart.com&utm_medium=link&utm_campaign=footer\n",
            "/help\n",
            "https://corporate.walmart.com/recalls\n",
            "https://www.walmart.com/help/article/responsible-disclosure-and-accessibility-policies/0f173dab8bd942da84b1cd7ab5ffc3cb\n",
            "https://www.walmart.com/cp/tax-exemption-program/8480422\n",
            "https://walmart.onelink.me/UIev?pid=walmart.com&af_web_dp=https%3A%2F%2Fwww.walmart.com%2Fcp%2Fwalmart-mobile-app%2F1087865&c=Walmart.com%20Site%20Footer&af_dp=walmart%3A%2F%2F\n",
            "https://www.walmart.com/cp/email-opt-in/8196352?gbo=1\n",
            "http://msds.walmartstores.com/\n",
            "/help/article/walmart-com-terms-of-use/3b75080af40340d6bbd596f116fae5a0\n",
            "https://corporate.walmart.com/privacy-security\n",
            "https://corporate.walmart.com/california-transparency\n",
            "https://www.walmart.com/account/api/ccpa-intake?native=false&app=gm&type=sod\n",
            "https://corporate.walmart.com/privacy-security/california-privacy-rights#what-are-the-categories-of-personal-information-collected\n",
            "https://corporate.walmart.com/privacy-security/walmart-privacy-notice\n",
            "https://corporate.walmart.com/privacy-security/walmart-consumer-health-data-privacy-notices\n",
            "https://www.walmart.com/account/api/ccpa-intake?native=false&app=gm&type=access\n",
            "https://www.walmart.com/brand/branddirectory\n",
            "https://www.walmart.com/cp/pharmacy/5431?povid=HWS_GlobalFooter_Pharmacy\n",
            "https://business.walmart.com/account/logout?vid=b2b&tid=0&returnUrl=%3Fpovid%3D5008973_homepage_WMTFOOTER\n",
            "https://www.walmart.com/cp/walmart-in-the-know/7781927\n",
            "https://www.walmart.com/account/login?vid=oaoh&tid=0&returnUrl=%2Faccount%2Fdelete-account\n"
          ]
        }
      ]
    },
    {
      "cell_type": "code",
      "source": [
        "# Define get_links\n",
        "\n",
        "def get_links(url):\n",
        "    website = Website(url)\n",
        "    completion = openai.chat.completions.create(\n",
        "        model=MODEL,\n",
        "        messages=[\n",
        "            {\"role\": \"system\", \"content\": link_system_prompt},\n",
        "            {\"role\": \"user\", \"content\": get_links_user_prompt(website)}\n",
        "      ],\n",
        "        response_format={\"type\": \"json_object\"}\n",
        "    )\n",
        "    result = completion.choices[0].message.content\n",
        "    return json.loads(result)"
      ],
      "metadata": {
        "id": "ed2CCMtVZMeb"
      },
      "execution_count": 9,
      "outputs": []
    },
    {
      "cell_type": "code",
      "source": [
        "# Pull important links from list of links from link webscraper\n",
        "\n",
        "get_links(\"https://anthropic.com\")"
      ],
      "metadata": {
        "colab": {
          "base_uri": "https://localhost:8080/"
        },
        "id": "iRbQv7e_ZMb0",
        "outputId": "85f8155c-56d2-4232-c2d1-37719523c697"
      },
      "execution_count": 10,
      "outputs": [
        {
          "output_type": "execute_result",
          "data": {
            "text/plain": [
              "{'links': [{'type': 'about page', 'url': 'https://anthropic.com/about'},\n",
              "  {'type': 'careers page', 'url': 'https://anthropic.com/careers'},\n",
              "  {'type': 'company page', 'url': 'https://anthropic.com/company'}]}"
            ]
          },
          "metadata": {},
          "execution_count": 10
        }
      ]
    },
    {
      "cell_type": "code",
      "source": [
        "# Define get_all_details\n",
        "\n",
        "def get_all_details(url):\n",
        "    result = \"Landing page:\\n\"\n",
        "    result += Website(url).get_contents()\n",
        "    links = get_links(url)\n",
        "    print(\"Found links:\", links)\n",
        "    for link in links[\"links\"]:\n",
        "        result += f\"\\n\\n{link['type']}\\n\"\n",
        "        result += Website(link[\"url\"]).get_contents()\n",
        "    return result"
      ],
      "metadata": {
        "id": "V6LEWXGjZMZO"
      },
      "execution_count": 11,
      "outputs": []
    },
    {
      "cell_type": "code",
      "source": [
        "# Print all details from website\n",
        "\n",
        "print(get_all_details(\"https://walmart.com\"))"
      ],
      "metadata": {
        "id": "5MsTCpUncpFu",
        "colab": {
          "base_uri": "https://localhost:8080/"
        },
        "outputId": "5200d02b-b0ed-4d07-c6f2-b9cfe7ece20c"
      },
      "execution_count": 12,
      "outputs": [
        {
          "output_type": "stream",
          "name": "stdout",
          "text": [
            "Found links: {'links': [{'type': 'careers page', 'url': 'https://careers.walmart.com/'}, {'type': 'corporate page', 'url': 'https://corporate.walmart.com/'}]}\n",
            "Landing page:\n",
            "Webpage Title:\n",
            "Walmart | Save Money. Live better.\n",
            "Webpage Contents:\n",
            "Skip to Main Content\n",
            "How do you want your items?\n",
            "Cancel\n",
            "Reorder\n",
            "My Items\n",
            "Reorder\n",
            "Lists\n",
            "Registries\n",
            "Sign In\n",
            "Account\n",
            "Sign in or create account\n",
            "Purchase History\n",
            "Walmart+\n",
            "$0.00\n",
            "Departments\n",
            "Services\n",
            "|\n",
            "How do you want your items?\n",
            "Walmart | Save Money. Live better.\n",
            "Presents for them, too!\n",
            "Shop pets\n",
            "Shop pets\n",
            "Great finds for techies\n",
            "Shop gifts\n",
            "Shop gifts\n",
            "Styles that wow\n",
            "Shop gifts\n",
            "Shop gifts\n",
            "Calling all Santas!\n",
            "Save on 1,000s of gifts\n",
            "Shop all\n",
            "Shop all\n",
            "Gift-swap goodies\n",
            "Shop now\n",
            "Shop now\n",
            "Under\n",
            "$\n",
            "25\n",
            "Up to 65% off\n",
            "Shop now\n",
            "Shop now\n",
            "Join Walmart+\n",
            "Walmart+ delivers fast & free from your local store\n",
            "One free trial per member. Terms apply.\n",
            "Join Walmart+\n",
            "Make it personal, from $10\n",
            "Shop gifts\n",
            "Shop gifts\n",
            "Surprise the host\n",
            "Shop gifts\n",
            "Shop gifts\n",
            "Buzzy faves to give & get\n",
            "Shop gifts\n",
            "Shop gifts\n",
            "Starting at\n",
            "$\n",
            "15\n",
            "We’d love to hear what you think!\n",
            "Give feedback\n",
            "All Departments\n",
            "Store Directory\n",
            "Careers\n",
            "Our Company\n",
            "Sell on Walmart.com\n",
            "Help\n",
            "Product Recalls\n",
            "Accessibility\n",
            "Tax Exempt Program\n",
            "Get the Walmart App\n",
            "Sign-up for Email\n",
            "Safety Data Sheet\n",
            "Terms of Use\n",
            "Privacy & Security\n",
            "California Supply Chain Act\n",
            "Your Privacy Choices\n",
            "Notice at Collection\n",
            "AdChoices\n",
            "Consumer Health Data Privacy Notices\n",
            "Request My Personal Information\n",
            "Brand Shop Directory\n",
            "Pharmacy\n",
            "Walmart Business\n",
            "#IYWYK\n",
            "Delete Account\n",
            "© 2024 Walmart. All Rights Reserved.\n",
            "\n",
            "\n",
            "\n",
            "careers page\n",
            "Webpage Title:\n",
            "Walmart Careers | Submit a Walmart Job Application Online\n",
            "Webpage Contents:\n",
            "Careers\n",
            "All Career Areas\n",
            "Back\n",
            "Stores & Clubs\n",
            "Sam’s Club Jobs\n",
            "Sam’s Club Management Jobs\n",
            "Walmart Management Jobs\n",
            "Walmart Store Jobs\n",
            "Distribution, Fulfillment, & Drivers\n",
            "Distribution and Fulfillment Centers\n",
            "Drivers & Transportation\n",
            "Fleet Maintenance\n",
            "Flex Associate\n",
            "Manufacturing\n",
            "Healthcare\n",
            "Corporate Healthcare Roles\n",
            "Optical\n",
            "Pharmacy\n",
            "Technology\n",
            "Cybersecurity\n",
            "Data Science and Analytics\n",
            "Information Technology\n",
            "Project and Program Management - Technology\n",
            "Software Development and Engineering\n",
            "UX Design\n",
            "View all Technology\n",
            "Corporate\n",
            "Accounting and Finance\n",
            "Administrative and Support Services\n",
            "Asset Protection\n",
            "Aviation and Travel\n",
            "Business Operations\n",
            "Corporate Affairs and Communications\n",
            "Customer Service and Call Center\n",
            "Data Analytics and Business Intelligence\n",
            "Engineering\n",
            "Ethics and Compliance\n",
            "Global Investigations and Security\n",
            "Human Resources\n",
            "Installation, Maintenance and Utilities\n",
            "Legal\n",
            "Marketing and Customer Insights\n",
            "Merchandising and Online Operations\n",
            "Product Management\n",
            "Project and Program Management - PMO\n",
            "Real Estate, Construction and Realty Execution\n",
            "Supply Chain and Logistics\n",
            "View all Corporate\n",
            "Locations\n",
            "Back\n",
            "Northwest Arkansas\n",
            "Silicon Valley\n",
            "DC Metro Area\n",
            "India\n",
            "International\n",
            "Culture\n",
            "Back\n",
            "Values\n",
            "History\n",
            "Diversity & Inclusion\n",
            "Working at Walmart\n",
            "Impact\n",
            "Back\n",
            "Sustainability\n",
            "Community\n",
            "America at Work\n",
            "Students\n",
            "Military\n",
            "Login\n",
            "Back\n",
            "Supply Chain\n",
            "Hourly\n",
            "Management\n",
            "Transportation & Drivers\n",
            "Corporate\n",
            "Home Office\n",
            "Sam's Club\n",
            "Hourly\n",
            "Management\n",
            "Walmart Stores\n",
            "Hourly\n",
            "Management\n",
            "Search Jobs\n",
            "All Career Areas\n",
            "All Career Areas\n",
            "Stores & Clubs\n",
            "Corporate\n",
            "Healthcare\n",
            "Technology\n",
            "Drivers & Distribution Centers\n",
            "Start typing city and state\n",
            "Use my location\n",
            "All Locations\n",
            "Cannot determine location\n",
            "Verify that location services are enabled on your mobile device or web browser.\n",
            "Search\n",
            "Here, there’s a path for everyone.\n",
            "Stores & Clubs\n",
            "Corporate\n",
            "Healthcare\n",
            "Technology\n",
            "Distribution, Fulfillment, & Drivers\n",
            "Sam’s Club Jobs\n",
            "Sam’s Club Management Jobs\n",
            "Walmart Maintenance Jobs\n",
            "Walmart Management Jobs\n",
            "Walmart Store Jobs\n",
            "Accounting and Finance\n",
            "Administrative and Support Services\n",
            "Asset Protection\n",
            "Aviation and Travel\n",
            "Business Operations\n",
            "Corporate Affairs and Communications\n",
            "Customer Service and Call Center\n",
            "Data Analytics and Business Intelligence\n",
            "Engineering\n",
            "Ethics and Compliance\n",
            "Global Investigations and Security\n",
            "Human Resources\n",
            "Installation, Maintenance and Utilities\n",
            "Legal\n",
            "Marketing and Customer Insights\n",
            "Merchandising and Online Operations\n",
            "Product Management\n",
            "Project and Program Management - PMO\n",
            "Real Estate, Construction and Realty Execution\n",
            "Supply Chain and Logistics\n",
            "Corporate Healthcare Roles\n",
            "Optical\n",
            "Pharmacy\n",
            "Cybersecurity\n",
            "Data Science and Analytics\n",
            "Information Technology\n",
            "Project and Program Management - Technology\n",
            "Software Development and Engineering\n",
            "UX Design\n",
            "Distribution and Fulfillment Centers\n",
            "Drivers & Transportation\n",
            "Fleet Maintenance\n",
            "Flex Associate\n",
            "Manufacturing\n",
            "Walmart raises pay for store managers\n",
            "Walmart store managers are the best leaders in retail, and we’re investing in them – simplifying their pay structure and redesigning their bonus program, giving them the opportunity to earn an annual bonus up to 200% of their base salary.\n",
            "Learn more\n",
            "Help us power the next great retail disruption\n",
            "Walmart Global Tech is a team of 15,000+ software engineers, data scientists and service professionals who deliver innovations that improve how our customers shop and empower our 2.2 million associates.\n",
            "Join us\n",
            "Culture of Success\n",
            "We define culture as our values in action.\n",
            "Learn more\n",
            "Smart Benefits\n",
            "Learn more\n",
            "Investing in American Jobs\n",
            "We are committed to U.S. manufacturing.\n",
            "Learn more\n",
            "Culture, Diversity, Equity and Inclusion\n",
            "By fostering a workplace culture where everyone is—and feels—included, everyone wins.\n",
            "Learn more\n",
            "Education Benefit\n",
            "Our Live Better U education benefits program gives associates the opportunity to go back to school, paid for by Walmart.\n",
            "Learn More\n",
            "0:00\n",
            "Northwest Arkansas\n",
            "With over 200 miles of biking and hiking trails, an emerging locally-sourced food scene, the world-renowned Crystal Bridges Museum—NWA has something for everyone.\n",
            "Find out more\n",
            "Silicon Valley\n",
            "Silicon Valley is the epicenter of technological innovation, featuring a vibrant, diverse community and a wealth of recreational activities.\n",
            "Find out more\n",
            "D.C. Metro\n",
            "National landmarks, museums, world-renowned restaurants—the D.C. Metro is a hub of activity and culture. It’s also a prime location for the future of tech.\n",
            "Find out more\n",
            "Recently viewed jobs\n",
            "FAQ\n",
            "Sitemap\n",
            "Corporate\n",
            "Terms & Conditions\n",
            "Privacy Policy\n",
            "Notice at Collection\n",
            "©2024 Walmart, Inc. is an Equal Opportunity Employer- By Choice.\n",
            "We believe we are best equipped to help our associates, customers, and the communities we serve live better when we really know them. That means understanding, respecting, and valuing diversity- unique styles, experiences, identities, abilities, ideas and opinions- while being inclusive of all people. Walmart Inc. participates in E-Verify. Learn more about\n",
            "applicant rights under Federal Employment Laws.\n",
            "\n",
            "\n",
            "\n",
            "corporate page\n",
            "Webpage Title:\n",
            "No title found\n",
            "Webpage Contents:\n",
            "\n",
            "\n",
            "\n"
          ]
        }
      ]
    },
    {
      "cell_type": "code",
      "source": [
        "# System prompt\n",
        "\n",
        "system_prompt = \"You are an assistant that analyzes the contents of several relevant pages from a company website \\\n",
        "and creates a short brochure about the company for prospective customers, investors and recruits. Respond in markdown.\\\n",
        "Include details of company culture, customers and careers/jobs if you have the information.\"\n",
        "\n",
        "# Or uncomment the lines below for a more humorous brochure:\n",
        "\n",
        "# system_prompt = \"You are an assistant that analyzes the contents of several relevant pages from a company website \\\n",
        "# and creates a short humorous, entertaining, jokey brochure about the company for prospective customers, investors and recruits. Respond in markdown.\\\n",
        "# Include details of company culture, customers and careers/jobs if you have the information.\"\n"
      ],
      "metadata": {
        "id": "fczsW7FBZMWw"
      },
      "execution_count": 13,
      "outputs": []
    },
    {
      "cell_type": "code",
      "source": [
        "# Define brochure_user_promp\n",
        "\n",
        "def get_brochure_user_prompt(company_name, url):\n",
        "    user_prompt = f\"You are looking at a company called: {company_name}\\n\"\n",
        "    user_prompt += f\"Here are the contents of its landing page and other relevant pages; use this information to build a short brochure of the company in markdown.\\n\"\n",
        "    user_prompt += get_all_details(url)\n",
        "    user_prompt = user_prompt[:20_000] # Truncate if more than 20,000 characters\n",
        "    return user_prompt"
      ],
      "metadata": {
        "id": "p2ng6kbMZMUH"
      },
      "execution_count": 14,
      "outputs": []
    },
    {
      "cell_type": "code",
      "source": [
        "# Define create_brochure\n",
        "\n",
        "def create_brochure(company_name, url):\n",
        "    response = openai.chat.completions.create(\n",
        "        model=MODEL,\n",
        "        messages=[\n",
        "            {\"role\": \"system\", \"content\": system_prompt},\n",
        "            {\"role\": \"user\", \"content\": get_brochure_user_prompt(company_name, url)}\n",
        "          ],\n",
        "    )\n",
        "    result = response.choices[0].message.content\n",
        "    display(Markdown(result))"
      ],
      "metadata": {
        "id": "CEfHTFeUZMRm"
      },
      "execution_count": 15,
      "outputs": []
    },
    {
      "cell_type": "code",
      "source": [
        "# Create the brochure of the website!\n",
        "\n",
        "create_brochure(\"Walmart\", \"https://walmart.com\")"
      ],
      "metadata": {
        "colab": {
          "base_uri": "https://localhost:8080/",
          "height": 905
        },
        "id": "lKSYRDGrZMPC",
        "outputId": "f614584a-a558-457d-feef-e9dfebea5ec0"
      },
      "execution_count": 16,
      "outputs": [
        {
          "output_type": "stream",
          "name": "stdout",
          "text": [
            "Found links: {'links': [{'type': 'careers page', 'url': 'https://careers.walmart.com/'}, {'type': 'company page', 'url': 'https://corporate.walmart.com/'}]}\n"
          ]
        },
        {
          "output_type": "display_data",
          "data": {
            "text/plain": [
              "<IPython.core.display.Markdown object>"
            ],
            "text/markdown": "```markdown\n# Walmart Brochure\n\n## About Us\nAt Walmart, our mission is clear: **\"Save Money. Live Better.\"** We are dedicated to providing our customers with affordable products, a diverse selection, and a commitment to sustainability. With over 2.2 million associates worldwide, Walmart stands as a leader in retail, ensuring that everyone, from the everyday shopper to businesses, has access to what they need at prices they can afford.\n\n---\n\n## Our Culture\nOur culture embodies our values in action. At Walmart, we strive to create a workplace where diversity, equity, and inclusion are not just ideals but realities. We understand that our associates bring unique perspectives and experiences that are essential for innovation and success.\n\n### Diversity & Inclusion\nWe believe that fostering a workplace culture where everyone is included enhances our performance and drives growth. Our commitment to diversity is evident in our hiring practices and community engagements.\n\n### Employee Benefits\n- **Live Better U**: A unique education benefits program allowing associates to further their education, fully funded by Walmart.\n- **Smart Benefits**: A comprehensive package tailored to help our associates thrive both personally and professionally.\n- **Competitive Pay**: Store managers have the potential to earn an annual bonus up to 200% of their base salary, signifying our investment in leadership.\n\n---\n\n## Career Opportunities\nWalmart offers diverse career paths across various sectors, including:\n\n- **Retail Management**\n- **Distribution & Fulfillment**\n- **Healthcare**\n- **Technology & Cybersecurity**\n- **Corporate Services**\n\nWhether you're looking to start your career or take it to the next level, Walmart has opportunities for individuals at every stage, inclusive of students and military veterans.\n\n---\n\n## Our Customers\nWe serve millions of customers every day across our stores and online platforms. From budget-conscious shoppers to business clients, we cater to a wide array of needs, ensuring that quality and savings go hand in hand.\n\n## Sustainability Commitment\nWalmart is dedicated to making a positive impact on the environment. Through responsible sourcing and sustainability initiatives, we work to make the communities we serve better places to live and work.\n\n---\n\n## Join Us\nAre you ready to be part of a team that values innovation, service, and community? **Join Walmart today and help us drive the next great retail disruption!**\n\nFor more information on careers, culture, and our commitment to our customers and communities, visit us at [Walmart Careers](https://www.walmart.com/careers).\n\n---\n\n*Together, we can not only save money but enhance lives and communities. At Walmart, we are not just about transactions; we are about transformation.*\n```\n"
          },
          "metadata": {}
        }
      ]
    },
    {
      "cell_type": "code",
      "source": [
        "# Define stream_brochure\n",
        "\n",
        "def stream_brochure(company_name, url):\n",
        "    stream = openai.chat.completions.create(\n",
        "        model=MODEL,\n",
        "        messages=[\n",
        "            {\"role\": \"system\", \"content\": system_prompt},\n",
        "            {\"role\": \"user\", \"content\": get_brochure_user_prompt(company_name, url)}\n",
        "          ],\n",
        "        stream=True\n",
        "    )\n",
        "\n",
        "    response = \"\"\n",
        "    display_handle = display(Markdown(\"\"), display_id=True)\n",
        "    for chunk in stream:\n",
        "        response += chunk.choices[0].delta.content or ''\n",
        "        response = response.replace(\"```\",\"\").replace(\"markdown\", \"\")\n",
        "        update_display(Markdown(response), display_id=display_handle.display_id)"
      ],
      "metadata": {
        "id": "v28KO7encNBn"
      },
      "execution_count": 17,
      "outputs": []
    },
    {
      "cell_type": "code",
      "source": [
        "# Stream the brochure of the website!\n",
        "\n",
        "stream_brochure(\"Walmart\", \"https://walmart.com\")"
      ],
      "metadata": {
        "colab": {
          "base_uri": "https://localhost:8080/",
          "height": 828
        },
        "id": "YLu7u6AKcM_I",
        "outputId": "0bf6858d-ab34-4541-bd73-2d67bf92917c"
      },
      "execution_count": 19,
      "outputs": [
        {
          "output_type": "stream",
          "name": "stdout",
          "text": [
            "Found links: {'links': [{'type': 'about page', 'url': 'https://corporate.walmart.com/'}, {'type': 'careers page', 'url': 'https://careers.walmart.com/'}]}\n"
          ]
        },
        {
          "output_type": "display_data",
          "data": {
            "text/plain": [
              "<IPython.core.display.Markdown object>"
            ],
            "text/markdown": "# Walmart Company Brochure\n\n## **Walmart - Save Money. Live Better.**\n\n### **Overview**\nWalmart is a leading global retailer dedicated to providing customers with low prices, a wide range of products, and excellent service. With a mission to help families save money and live better, Walmart offers everything from groceries to electronics, making it a one-stop-shop for all your needs.\n\n### **Company Culture**\nAt Walmart, we define our culture as our values in action. Our commitment to diversity, equity, and inclusion is paramount; we strive to create a workplace that values unique experiences and perspectives. Initiatives like **Live Better U**, which offers educational benefits for associates, showcase our commitment to investing in our employees' futures. \n\nWalmart fosters a culture that encourages innovation and the pursuit of excellence—whether that be through technology or customer service. Our corporate culture is built on integrity, respect, and a will to succeed together, creating an environment where everyone can thrive.\n\n### **Customers**\nWalmart serves millions of customers every week across the globe. With a wide range of departments, including Grocery, Electronics, Clothing, Health & Wellness, and more, we cater to diverse needs and preferences. Whether shopping in-store or online, our customers can enjoy savings every day.\n\n### **Careers at Walmart**\nWalmart is continuously seeking committed individuals who are ready to contribute to our mission. Our career opportunities span across various areas, including:\n\n- **Retail Management**\n- **Distribution and Fulfillment**\n- **Technology and Cybersecurity**\n- **Healthcare Services**\n- **Corporate Functions**\n\nWe prioritize career development and offer clear paths for growth. Employees can benefit from competitive pay, health benefits, retirement plans, and a comprehensive education support program. Join us, and be part of a team that is revolutionizing retail.\n\n### **Impact and Community Engagement**\nWalmart is dedicated to making a positive impact in the communities we serve. Through sustainability initiatives, charitable contributions, and programs that incentivize local sourcing and manufacturing, we are committed to creating a better future for our associates, customers, and communities.\n\n### **Join Us**\nIf you're ready to make a difference and be part of a team that values your contributions, explore the opportunities available at Walmart today. Together, we can save money and live better!\n\n---\n\nFor more information, visit our website at [Walmart Careers](https://www.walmart.com/careers) and learn more about our commitment to our customers, associates, and communities."
          },
          "metadata": {}
        }
      ]
    }
  ]
}